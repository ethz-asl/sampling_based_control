{
 "cells": [
  {
   "cell_type": "markdown",
   "metadata": {},
   "source": [
    "## Evaluation of Manipulation experiments"
   ]
  },
  {
   "cell_type": "code",
   "execution_count": null,
   "metadata": {},
   "outputs": [],
   "source": [
    "import os\n",
    "import re\n",
    "import numpy as np\n",
    "import signal_logger\n",
    "import seaborn as sns\n",
    "import pandas as pd\n",
    "\n",
    "import matplotlib.pyplot as plt\n",
    "import matplotlib\n",
    "\n",
    "import ipywidgets as widgets \n",
    "from IPython.display import display\n",
    "\n",
    "from path_extender import *\n",
    "from utilities import *\n",
    "\n",
    "%matplotlib notebook"
   ]
  },
  {
   "cell_type": "code",
   "execution_count": null,
   "metadata": {},
   "outputs": [],
   "source": [
    "# to get plots of zbf comparison with alpha = 1000 and alpha = 1:\n",
    "# ROOT_DIR = \"/media/giuseppe/My Passport/Work/logs_mppi/passivity_zbf_comparison/\"\n",
    "\n",
    "# to get plots of passivity comparison (alpha = 1000) filter_in_out vs no_filter:\n",
    "#ROOT_DIR = \"/media/giuseppe/My Passport/Work/logs_mppi/with_without_passivity_object_stuck/\"\n",
    "\n",
    "# to get plots of all methods comparisons:\n",
    "ROOT_DIR = \"/media/giuseppe/My Passport/Work/logs_mppi/objects_interaction_method_analysis/\"\n",
    "\n",
    "LOG_PREFIX = \"\"\n",
    "LOG_FILES = get_files(ROOT_DIR, LOG_PREFIX)\n",
    "REQUIRED_FIELDS = [\n",
    "    \"log/sim_time\", \n",
    "    \"log/solver/rate\",\n",
    "    \"log/solver/delay_steps\",\n",
    "    \"log/solver/rollouts/min_cost\",\n",
    "    \n",
    "    \"log/opt_time\",\n",
    "    \"log/simulation_step\",\n",
    "    \"log/power_from_interaction\",\n",
    "    \"log/stage_cost\", \n",
    "    \"log/torque_command\",\n",
    "    \n",
    "    \"log/external_torque\",\n",
    "    \"log/ground_truth_external_torque\",\n",
    "    \"log/external_wrench\",\n",
    "    \"log/external_wrench_filtered\",\n",
    "    \"log/position_desired\",\n",
    "    \"log/position_measured\",\n",
    "    \n",
    "    \"log/velocity_command\",\n",
    "    \"log/velocity_measured\",\n",
    "    \"log/velocity_mppi\",\n",
    "    \n",
    "    \"log/cartesian_limits_violation\", \n",
    "    \"log/joint_limits_violation\",\n",
    "    \"log/tank_state\", \n",
    "    \"log/power_channels\",\n",
    "    \"log/state\"\n",
    "]\n",
    "data = get_data(ROOT_DIR, REQUIRED_FIELDS, log_prefix=LOG_PREFIX)\n",
    "data = process_data(data, final_time=40)\n",
    "data = pd.DataFrame.from_dict(data)"
   ]
  },
  {
   "cell_type": "markdown",
   "metadata": {},
   "source": [
    "<a id='index'></a>"
   ]
  },
  {
   "cell_type": "markdown",
   "metadata": {},
   "source": [
    "### Index\n",
    "- [Methods evaluation](#methods_evaluation)\n",
    "- [Power cost analysis](#power_cost_analysis)\n",
    "- [Energy tank comparison](#energy_tank_comparison)\n",
    "- [Passivity coefficient analysis](#passivity_coefficient_analysis)\n",
    "- [Experiment plots](#experiment_plots)"
   ]
  },
  {
   "cell_type": "code",
   "execution_count": null,
   "metadata": {},
   "outputs": [],
   "source": [
    "DO_METHOD_EVALUATION = True\n",
    "DO_EXPERIMENT_PLOTS = False\n",
    "DO_POWER_COST_ANALYSIS = False\n",
    "DO_PASSIVITY_COEFFICIENT_ANALYSIS = False \n",
    "DO_ENERGY_TANK_COMPARISON = True"
   ]
  },
  {
   "cell_type": "markdown",
   "metadata": {},
   "source": [
    "<a id='methods_evaluation'></a>"
   ]
  },
  {
   "cell_type": "markdown",
   "metadata": {},
   "source": [
    "## Method evaluation \n",
    "[index](#index)"
   ]
  },
  {
   "cell_type": "markdown",
   "metadata": {},
   "source": [
    "### Stage cost"
   ]
  },
  {
   "cell_type": "code",
   "execution_count": null,
   "metadata": {},
   "outputs": [],
   "source": [
    "if DO_METHOD_EVALUATION:\n",
    "    order = [\"no_filter\", \"filter_out\", \"filter_in\", \"filter_in_out\"]\n",
    "\n",
    "    g =sns.catplot(x=\"x\", y=\"average_stage_cost\", hue=\"experiment_type\", col=\"object_type\", \n",
    "                   hue_order=order, data=data, kind=\"bar\",  capsize=.05, errwidth=5, edgecolor=\".2\", \n",
    "                   height=4, aspect=.7, lw=5,legend=False)\n",
    "\n",
    "    (g.set_axis_labels(\"\", \"Average stage cost\")\n",
    "      .set_xticklabels([])\n",
    "      .set_titles(\"{col_name}\")\n",
    "      .despine(right=False, top=False))\n",
    "\n",
    "    #set_facetgrid_style(g, title=True, legend=True)\n",
    "    display_save_button(g.fig)\n",
    " "
   ]
  },
  {
   "cell_type": "markdown",
   "metadata": {},
   "source": [
    "### Joint limits\n",
    "We compute the cumulative violation summed over all joints"
   ]
  },
  {
   "cell_type": "code",
   "execution_count": null,
   "metadata": {},
   "outputs": [],
   "source": [
    "if DO_METHOD_EVALUATION:\n",
    "    g =sns.catplot(x=\"x\", y=\"joint_limits_violation_se\", hue=\"experiment_type\", col=\"object_type\", \n",
    "                   hue_order=order, data=data, kind=\"bar\", height=4, aspect=.7,\n",
    "                   lw=5,  capsize=.05, errwidth=5, edgecolor=\".2\", legend=False);\n",
    "\n",
    "    g.set_axis_labels(\"\", \"Joint limits violation\")\n",
    "    g.set_xticklabels([\"\"])\n",
    "    g.set_titles(\"{col_name}\")\n",
    "    g.despine(right=False, top=False)\n",
    "\n",
    "    #set_facetgrid_style(g, title=True, legend=False)\n",
    "    display_save_button(g.fig)"
   ]
  },
  {
   "cell_type": "markdown",
   "metadata": {},
   "source": [
    "### Cartesian limits\n",
    "We compute the cumulative squared violation of cartesian limits (self collision)"
   ]
  },
  {
   "cell_type": "code",
   "execution_count": null,
   "metadata": {},
   "outputs": [],
   "source": [
    "if DO_METHOD_EVALUATION:\n",
    "    g =sns.catplot(x=\"x\", y=\"cartesian_limits_violation_se\", hue=\"experiment_type\", col=\"object_type\", \n",
    "                   hue_order=order, data=data, kind=\"bar\", height=4, aspect=.7,\n",
    "                   lw=5,  capsize=.05, errwidth=5, edgecolor=\".2\", legend=False);\n",
    "\n",
    "    g.set_axis_labels(\"\", \"Self collision violation\")\n",
    "    g.set_xticklabels([\"\"])\n",
    "    g.set_titles(\"{col_name}\")\n",
    "    g.despine(right=False, top=False)\n",
    "    for _, ax in g.axes_dict.items():\n",
    "        ax.set_ylim([0.0, 0.30])\n",
    "\n",
    "    #set_facetgrid_style(g, title=True, legend=False)\n",
    "    display_save_button(g.fig)"
   ]
  },
  {
   "cell_type": "markdown",
   "metadata": {},
   "source": [
    "### Average wrench\n",
    "We analyse the effect of the energy tank indirectly thorugh a minimized applied wrench"
   ]
  },
  {
   "cell_type": "code",
   "execution_count": null,
   "metadata": {},
   "outputs": [],
   "source": [
    "if DO_METHOD_EVALUATION:\n",
    "    g =sns.catplot(x=\"x\", y=\"dissipated_power\", hue=\"experiment_type\", col=\"object_type\", \n",
    "               hue_order=order, data=data, kind=\"bar\", height=4, aspect=.7,\n",
    "               lw=5,  capsize=.05, errwidth=5, edgecolor=\".2\", legend=False);\n",
    "\n",
    "    g.set_axis_labels(\"\", \"Dissipated Power\")\n",
    "    g.set_xticklabels([\"\"])\n",
    "    g.set_titles(\"{col_name}\")\n",
    "    g.despine(right=False, top=False)\n",
    "\n",
    "    #set_facetgrid_style(g, title=True, legend=False)\n",
    "    display_save_button(g.fig)"
   ]
  },
  {
   "cell_type": "markdown",
   "metadata": {},
   "source": [
    "<a id='power_cost_analysis'></a>"
   ]
  },
  {
   "cell_type": "markdown",
   "metadata": {},
   "source": [
    "## Power vs No-Power cost\n",
    "[index](#index)\n",
    "\n",
    "We compare experiments where we do/dont penalize the power exchanged with the environment"
   ]
  },
  {
   "cell_type": "code",
   "execution_count": null,
   "metadata": {},
   "outputs": [],
   "source": [
    "if DO_POWER_COST_ANALYSIS:\n",
    "    # concatenate all values for each experiment\n",
    "    all_wrench_data = {\n",
    "        'power cost': [], \n",
    "        'object_type': [], \n",
    "        'wrench_norm': [], \n",
    "        'power': []\n",
    "    }\n",
    "\n",
    "    for power_cost, object_type, wrench, power in zip(data['power_cost'], \n",
    "                                                      data['object_type'], \n",
    "                                                      data['wrench_norm'], \n",
    "                                                      data['power_from_interaction']):\n",
    "        # threshold wrench\n",
    "        wrench_thresholded = wrench[wrench > 1]\n",
    "        all_wrench_data['power cost'].extend([\"On\" if power_cost else \"Off\"] * len(wrench_thresholded))\n",
    "        all_wrench_data['object_type'].extend([object_type] * len(wrench_thresholded))\n",
    "        all_wrench_data['wrench_norm'].extend(wrench_thresholded)\n",
    "        all_wrench_data['power'].extend(power[wrench>1])\n",
    "\n",
    "    all_wrench_df = pd.DataFrame.from_dict(all_wrench_data)\n",
    "\n",
    "    fig, ax = plt.subplots(2, 1)\n",
    "    sns.barplot(x='object_type', y=\"power\", hue=\"power cost\", data=all_wrench_df, ax=ax[0],\n",
    "                hue_order=[\"Off\", \"On\"], lw=1.5,  capsize=.05, errwidth=2, edgecolor=\".2\",)\n",
    "\n",
    "    sns.barplot(x='object_type', y=\"wrench_norm\", hue=\"power cost\", data=all_wrench_df, ax=ax[1],\n",
    "                hue_order=[\"Off\", \"On\"], lw=1.5,  capsize=.05, errwidth=2, edgecolor=\".2\",)\n",
    "\n",
    "    ax[0].set_xlabel(\"\")\n",
    "    ax[0].set_ylabel(\"Power [W]\",fontsize=18)\n",
    "    ax[0].set_xticks([])\n",
    "    ax[0].set_ylim([-25, 2])\n",
    "    ax[0].tick_params(labelsize=15)\n",
    "\n",
    "    ax[1].set_xlabel(\"\")\n",
    "    ax[1].set_ylabel(\"Wrench [N]\",fontsize=18)\n",
    "    ax[1].tick_params(labelsize=15)\n",
    "    ax[1].legend().set_visible(False)\n",
    "\n",
    "\n",
    "    display_save_button(fig)"
   ]
  },
  {
   "cell_type": "markdown",
   "metadata": {},
   "source": [
    "<a id='energy_tank_comparison'></a>"
   ]
  },
  {
   "cell_type": "markdown",
   "metadata": {},
   "source": [
    "## Wrench and energy tank\n",
    "[index](#index)"
   ]
  },
  {
   "cell_type": "code",
   "execution_count": null,
   "metadata": {},
   "outputs": [],
   "source": [
    "if DO_ENERGY_TANK_COMPARISON:\n",
    "    # we need to align time across all the experiments \n",
    "    from scipy.interpolate import interp1d\n",
    "\n",
    "    # find common min and max time as well as best approx for first fix and release time for the object\n",
    "    t_min = 0\n",
    "    t_max = np.inf\n",
    "    t_min_fix = np.inf\n",
    "    t_max_rel = 0\n",
    "    TOLL = 1\n",
    "    for t, s in zip(data['sim_time'], data['state']):\n",
    "        if t[0] > t_min:\n",
    "            t_min = t[0]\n",
    "        if t[-1] < t_max:\n",
    "            t_max = t[-1]\n",
    "\n",
    "        # find where the object is released\n",
    "        object_positions = s[:, 24]\n",
    "        object_fix = np.where(object_positions > np.pi * (30 - TOLL) / 180)[0][0]\n",
    "        object_release = np.where(object_positions > np.pi * (30 + TOLL) / 180)[0][0]\n",
    "\n",
    "        fix_time = t[object_fix]\n",
    "        release_time = t[object_release]\n",
    "        if fix_time < t_min_fix:\n",
    "            t_min_fix = fix_time\n",
    "        if release_time > t_max_rel:\n",
    "            t_max_rel = release_time\n",
    "\n",
    "    global_time = np.arange(t_min, t_max, step=0.01)\n",
    "\n",
    "\n",
    "    # concatenate data for each experiment in a single dictionary\n",
    "    data_extended = {\n",
    "        'time': [], \n",
    "        'wrench_norm': [], \n",
    "        'experiment_type': [], \n",
    "        'tank_energy': []\n",
    "    }\n",
    "\n",
    "    for t, w, e, p in zip(data['sim_time'], data['wrench_norm'], \n",
    "                          data['experiment_type'], data['power_from_interaction']):\n",
    "        f = interp1d(t, w, kind='nearest')\n",
    "        w = f(global_time)\n",
    "        data_extended['time'].extend(global_time)\n",
    "        data_extended['wrench_norm'].extend(w)\n",
    "        label = \"\"\n",
    "        if e == \"no_filter\":\n",
    "            label = \"without filter\"\n",
    "        elif e == \"filter_in_out\":\n",
    "            label = \"with filter\"\n",
    "        else:\n",
    "            label = \"with filter (zbf)\"\n",
    "        data_extended['experiment_type'].extend([label] * len(global_time))\n",
    "\n",
    "        # we know that 10 is the initial energy value and we collect a sample each 15 steps of 1ms each\n",
    "        ft = interp1d(t, 10 + np.cumsum(p)*0.015)\n",
    "        s = ft(global_time)\n",
    "        data_extended['tank_energy'].extend(s)\n",
    "\n",
    "    data_extended = pd.DataFrame.from_dict(data_extended)\n",
    "\n",
    "    fig, ax = plt.subplots()\n",
    "    sns.lineplot(x='time', y='wrench_norm', hue=\"experiment_type\", estimator='median', data=data_extended, ci='sd',\n",
    "                 lw=3)\n",
    "\n",
    "    fix_window = np.logical_and(global_time>t_min_fix, global_time<t_max_rel)\n",
    "    ax.fill_between(global_time, 0, 1, where=fix_window, facecolor='red', alpha=0.1, transform=ax.get_xaxis_transform(), \n",
    "                    label=\"fix\")\n",
    "    ax.legend(fontsize=20)\n",
    "    ax.set_xlim(5, 40)     \n",
    "    ax.tick_params(axis='x', which='major', labelsize=20)\n",
    "    ax.tick_params(axis='y', which='major', labelsize=20)\n",
    "    ax.set_xlabel(\"time [s]\", fontsize=20)\n",
    "    ax.set_ylabel(\"wrench norm [N]\", fontsize=20)\n",
    "\n",
    "    fig.set_size_inches(10, 7)\n",
    "    display_save_button(fig)\n",
    "\n",
    "\n",
    "\n",
    "    fig, ax = plt.subplots()\n",
    "    fig.set_size_inches(10, 7)\n",
    "\n",
    "    rect = [0.5,0.4,0.48,0.48]\n",
    "    ax.set_xlim(5, 40)\n",
    "    sns.lineplot(x='time', y='tank_energy', hue=\"experiment_type\", estimator='mean', data=data_extended, \n",
    "                 ci='sd', lw=3)\n",
    "    ax.tick_params(axis='x', which='major', labelsize=20)\n",
    "    ax.tick_params(axis='y', which='major', labelsize=20)\n",
    "    ax.set_xlabel(\"time [s]\", fontsize=20)\n",
    "    ax.set_ylabel(\"energy [J]\", fontsize=20)\n",
    "    ax.legend(fontsize=20)\n",
    "\n",
    "    ax_sub = add_subplot_axes(ax,rect)\n",
    "    ax_sub.set_xlim(15, 40)\n",
    "    ax_sub.set_ylim(-1, 11)\n",
    "    sns.lineplot(x='time', y='tank_energy', hue=\"experiment_type\", estimator='mean', data=data_extended, \n",
    "                 ci='sd', ax=ax_sub, legend=False, lw=3)\n",
    "    ax_sub.axhline(y=2, xmin=0, xmax=1, ls=\"--\", c='r', lw=3, label=\"min energy\")\n",
    "    ax_sub.legend(fontsize=20)\n",
    "    ax_sub.set_xlabel(\"\")\n",
    "    ax_sub.set_ylabel(\"\")\n",
    "    ax_sub.tick_params(axis='x', which='major', labelsize=12)\n",
    "    ax_sub.tick_params(axis='y', which='major', labelsize=12)\n",
    "    display_save_button(fig)"
   ]
  },
  {
   "cell_type": "markdown",
   "metadata": {},
   "source": [
    "<a id='passivity_coefficient_analysis'></a>"
   ]
  },
  {
   "cell_type": "markdown",
   "metadata": {},
   "source": [
    "### Comparison energy tank with different alpha\n",
    "[index](#index)"
   ]
  },
  {
   "cell_type": "code",
   "execution_count": null,
   "metadata": {},
   "outputs": [],
   "source": [
    "if DO_PASSIVITY_COEFFICIENT_ANALYSIS:\n",
    "    fig, ax = plt.subplots()\n",
    "    fig.set_size_inches(10, 7)\n",
    "    ax.set_xlim(5, 40)\n",
    "    ax.set_ylim(-1, 11)\n",
    "    sns.lineplot(x='time', y='tank_energy', hue=\"experiment_type\", estimator='mean', data=data_extended, \n",
    "                 ci='sd', ax=ax, legend=True, lw=3)\n",
    "    ax.axhline(y=2, xmin=0, xmax=1, ls=\"--\", c='r', lw=3, label=\"min energy\")\n",
    "    replace_legend_labels(ax, \n",
    "                          old_labels=[\"with filter\", \"with filter (zbf)\"], \n",
    "                          new_labels=[r'with filter ($\\alpha=1000.0$)', r'with filter ($\\alpha=1.0$)'],\n",
    "                          fontsize=20)\n",
    "\n",
    "    ax.set_xlabel(\"time [s]\", fontsize=20)\n",
    "    ax.set_ylabel(\"energy [J]\", fontsize=20)\n",
    "    ax.tick_params(axis='x', which='major', labelsize=20)\n",
    "    ax.tick_params(axis='y', which='major', labelsize=20)\n",
    "    display_save_button(fig)"
   ]
  },
  {
   "cell_type": "markdown",
   "metadata": {},
   "source": [
    "<a id='experiment_plots'></a>"
   ]
  },
  {
   "cell_type": "markdown",
   "metadata": {},
   "source": [
    "## Experiment plots\n",
    "[index](#index)\n",
    "\n",
    "Here we plot different signal for a singal experiment"
   ]
  },
  {
   "cell_type": "code",
   "execution_count": null,
   "metadata": {},
   "outputs": [],
   "source": [
    "exp_idx = 0    # choose the experiment"
   ]
  },
  {
   "cell_type": "markdown",
   "metadata": {},
   "source": [
    "### Energy tank"
   ]
  },
  {
   "cell_type": "code",
   "execution_count": null,
   "metadata": {},
   "outputs": [],
   "source": [
    "if DO_EXPERIMENT_PLOTS:\n",
    "    fig, ax  = plt.subplots()\n",
    "    ax.plot(data['sim_time'][exp_idx], 0.5 * np.square(data['tank_state'][exp_idx]), label=\"tank_energy\")\n",
    "    ax.plot(data['sim_time'][exp_idx], 10 + np.cumsum(data['power_from_interaction'][exp_idx])*0.015, \n",
    "            label=\"power_from_interaction\")\n",
    "    \n",
    "    MIN_ENERGY = 2\n",
    "    ax.axhline(y=MIN_ENERGY, ls=\"--\")\n",
    "    ax.set_title(\"Energy tank\")\n",
    "    ax.legend()"
   ]
  },
  {
   "cell_type": "markdown",
   "metadata": {},
   "source": [
    "### Torque measurements"
   ]
  },
  {
   "cell_type": "code",
   "execution_count": null,
   "metadata": {},
   "outputs": [],
   "source": [
    "if DO_EXPERIMENT_PLOTS:\n",
    "    ax = matrix_plot(data['sim_time'][exp_idx], \n",
    "                     data['external_torque'][exp_idx], \n",
    "                     prefix=\"external_torque\")\n",
    "    ax.set_title(\"External measured torque\")\n",
    "    ax.legend(bbox_to_anchor=(0, 1), loc='upper left', ncol=1)\n",
    "\n",
    "    ax = matrix_plot(data['sim_time'][exp_idx], \n",
    "                     data['ground_truth_external_torque'][exp_idx], \n",
    "                     prefix=\"gt_external_torque\")\n",
    "    ax.legend(bbox_to_anchor=(0, 1), loc='upper left', ncol=1)\n",
    "\n",
    "    # Compare estimated against ground truth\n",
    "    uidx = 0\n",
    "    fig, ax2 = plt.subplots()\n",
    "    ax2.plot(data['sim_time'][exp_idx], data['external_torque'][exp_idx][:, uidx], label=f\"est_{uidx}\")\n",
    "    ax2.plot(data['sim_time'][exp_idx], data['ground_truth_external_torque'][exp_idx][:, uidx], '--', \n",
    "             label=f\"gt_{uidx}\")\n",
    "    ax2.legend()"
   ]
  },
  {
   "cell_type": "markdown",
   "metadata": {},
   "source": [
    "### Stage cost"
   ]
  },
  {
   "cell_type": "code",
   "execution_count": null,
   "metadata": {},
   "outputs": [],
   "source": [
    "if DO_EXPERIMENT_PLOTS:\n",
    "    ax = scalar_plot(data['sim_time'][exp_idx], data['stage_cost'][exp_idx], prefix=\"stage_cost\")\n",
    "    ax.set_title(\"stage_cost\")"
   ]
  },
  {
   "cell_type": "markdown",
   "metadata": {},
   "source": [
    "### Min cost"
   ]
  },
  {
   "cell_type": "code",
   "execution_count": null,
   "metadata": {},
   "outputs": [],
   "source": [
    "if DO_EXPERIMENT_PLOTS:\n",
    "    ax = scalar_plot(data['sim_time'][exp_idx], data['min_cost'][exp_idx], prefix=\"min_cost\")\n",
    "    ax.set_title(\"Minimum rollout cost\")"
   ]
  },
  {
   "cell_type": "markdown",
   "metadata": {},
   "source": [
    "### Position desired"
   ]
  },
  {
   "cell_type": "code",
   "execution_count": null,
   "metadata": {},
   "outputs": [],
   "source": [
    "if DO_EXPERIMENT_PLOTS:\n",
    "    ax = matrix_plot(data['sim_time'][exp_idx], data['position_desired'][exp_idx], prefix=\"des\")\n",
    "    ax = matrix_plot(data['sim_time'][exp_idx], data['position_measured'][exp_idx], prefix=\"meas\", \n",
    "                     linestyle=\"--\", axis=ax)\n",
    "    ax.legend(fontsize=10)\n",
    "\n",
    "    # Compare only one channel\n",
    "    uidx = 2\n",
    "    fig2, ax2 = plt.subplots()\n",
    "    ax2.plot(data['sim_time'][exp_idx], data['position_desired'][exp_idx][:, uidx], label=f\"desired_{uidx}\")\n",
    "    ax2.plot(data['sim_time'][exp_idx], data['position_measured'][exp_idx][:, uidx], '--', label=f\"measured_{uidx}\")\n",
    "    ax2.legend()"
   ]
  },
  {
   "cell_type": "markdown",
   "metadata": {},
   "source": [
    "### Velocity measured"
   ]
  },
  {
   "cell_type": "code",
   "execution_count": null,
   "metadata": {},
   "outputs": [],
   "source": [
    "if DO_EXPERIMENT_PLOTS:\n",
    "    ax = matrix_plot(data['sim_time'][exp_idx], data['velocity_measured'][exp_idx], prefix=\"velocity_measured\")\n",
    "    ax.set_title(\"Velocity measured\")"
   ]
  },
  {
   "cell_type": "markdown",
   "metadata": {},
   "source": [
    "### Velocity command"
   ]
  },
  {
   "cell_type": "code",
   "execution_count": null,
   "metadata": {},
   "outputs": [],
   "source": [
    "if DO_EXPERIMENT_PLOTS:\n",
    "    cmd_idx = 6\n",
    "    ax = scalar_plot(data['sim_time'][exp_idx], data['velocity_mppi'][exp_idx][:,cmd_idx], \n",
    "                     prefix=f\"before_filter_{cmd_idx}\")\n",
    "    ax = scalar_plot(data['sim_time'][exp_idx], data['velocity_command'][exp_idx][:,cmd_idx], \n",
    "                    prefix=f\"after_filter_{cmd_idx}\", axis=ax)\n",
    "    ax.set_title(\"Velocity command\")"
   ]
  },
  {
   "cell_type": "markdown",
   "metadata": {},
   "source": [
    "### Torque command"
   ]
  },
  {
   "cell_type": "code",
   "execution_count": null,
   "metadata": {},
   "outputs": [],
   "source": [
    "if DO_EXPERIMENT_PLOTS:\n",
    "    ax = matrix_plot(data['sim_time'][exp_idx], data['torque_command'][exp_idx], prefix=\"torque_command\")\n",
    "    ax.set_title(\"Torque command\")"
   ]
  },
  {
   "cell_type": "markdown",
   "metadata": {},
   "source": [
    "### Joint limits violation"
   ]
  },
  {
   "cell_type": "code",
   "execution_count": null,
   "metadata": {},
   "outputs": [],
   "source": [
    "if DO_EXPERIMENT_PLOTS:\n",
    "    ax = matrix_plot(data['sim_time'][exp_idx], data['joint_limits_violation'][exp_idx], \n",
    "                 prefix=\"joint_limits_violation\")\n",
    "    ax.set_title(\"Joint limits violation\")"
   ]
  },
  {
   "cell_type": "markdown",
   "metadata": {},
   "source": [
    "### Cartesian limits violation"
   ]
  },
  {
   "cell_type": "code",
   "execution_count": null,
   "metadata": {},
   "outputs": [],
   "source": [
    "if DO_EXPERIMENT_PLOTS:\n",
    "    ax = matrix_plot(data['sim_time'][exp_idx], data['cartesian_limits_violation'][exp_idx], \n",
    "            prefix=\"cartesian_limits_violation\")\n",
    "    ax.set_title(\"Cartesian limits violation\")"
   ]
  },
  {
   "cell_type": "markdown",
   "metadata": {},
   "source": [
    "### Computation Performance Metrics"
   ]
  },
  {
   "cell_type": "code",
   "execution_count": null,
   "metadata": {},
   "outputs": [],
   "source": [
    "if DO_EXPERIMENT_PLOTS:\n",
    "    #ax = scalar_plot(data['sim_time'][exp_idx], data['delay_steps'][exp_idx], prefix=\"delay_steps\")\n",
    "    #ax.set_title(\"delay steps\")\n",
    "    ax = scalar_plot(data['sim_time'][exp_idx], 1.0/data['rate'][exp_idx], prefix=\"rate\")\n",
    "    \n",
    "    fig, ax = plt.subplots()\n",
    "    contact_state_idx = 26\n",
    "    contact_mask = data['state'][exp_idx][:, contact_state_idx] > 0.0\n",
    "    sim_step = data['simulation_step'][exp_idx][contact_mask]\n",
    "    ax.plot(data['state'][exp_idx][:, contact_state_idx] , label=\"contact flag\")\n",
    "    ax.plot(data['simulation_step'][exp_idx] * 1000 , label=\"simulation_step\")\n",
    "\n",
    "    # We compute these metrics only when in contact as this is where the difference between meshes plays \n",
    "    # a role\n",
    "    print(f\"Max: {1.0/np.min(sim_step)/1000}, Min: {1.0/np.max(sim_step)/1000} KHz, Mean: {1.0/np.mean(sim_step)/1000} KHz, Std: {1.0/np.std(sim_step)/1000} KHz\")\n",
    "    print(f\"Average opt time: {np.mean(data['opt_time'][exp_idx]) * 1000 } ms\")\n",
    "    print(\"\\n\\nSingle\")\n",
    "    print(\"Max: 39.91856612510479, Min: 0.08300425604322863 KHz, Avg: 2.940748217192103 KHz, Std: 1.7962439317248262 KHz\")\n",
    "    print(\"Two realistic\")\n",
    "    print(\"Max: 41.94454930581771, Min: 0.04337963820514144 KHz, Avg: 2.1332271154104614 KHz, Std: 1.2765470097347171 KHz\")\n",
    "    print(\"Convex hull\")\n",
    "    print(\"Max: 32.96739524610161, Min: 0.04788936484000188 KHz, Avg: 0.9756731241637593 KHz, Std: 0.7493113313931056 KHz\")"
   ]
  },
  {
   "cell_type": "code",
   "execution_count": null,
   "metadata": {},
   "outputs": [],
   "source": []
  }
 ],
 "metadata": {
  "kernelspec": {
   "display_name": "Python 3",
   "language": "python",
   "name": "python3"
  },
  "language_info": {
   "codemirror_mode": {
    "name": "ipython",
    "version": 3
   },
   "file_extension": ".py",
   "mimetype": "text/x-python",
   "name": "python",
   "nbconvert_exporter": "python",
   "pygments_lexer": "ipython3",
   "version": "3.8.10"
  }
 },
 "nbformat": 4,
 "nbformat_minor": 4
}
