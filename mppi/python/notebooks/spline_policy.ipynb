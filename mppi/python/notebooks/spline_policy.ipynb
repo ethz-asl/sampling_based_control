{
 "cells": [
  {
   "cell_type": "markdown",
   "metadata": {},
   "source": [
    "### Common imports"
   ]
  },
  {
   "cell_type": "code",
   "execution_count": 1,
   "metadata": {},
   "outputs": [],
   "source": [
    "import ipywidgets as widgets \n",
    "import matplotlib.pyplot as plt\n",
    "import numpy as np\n",
    "\n",
    "%matplotlib notebook\n",
    "from IPython.display import display"
   ]
  },
  {
   "cell_type": "markdown",
   "metadata": {},
   "source": [
    "### Spline Policy"
   ]
  },
  {
   "cell_type": "code",
   "execution_count": 2,
   "metadata": {},
   "outputs": [
    {
     "ename": "MemoryError",
     "evalue": "std::bad_alloc",
     "output_type": "error",
     "traceback": [
      "\u001b[0;31m---------------------------------------------------------------------------\u001b[0m",
      "\u001b[0;31mMemoryError\u001b[0m                               Traceback (most recent call last)",
      "\u001b[0;32m<ipython-input-2-34dacd3ea4cd>\u001b[0m in \u001b[0;36m<module>\u001b[0;34m\u001b[0m\n\u001b[1;32m     21\u001b[0m \u001b[0;34m\u001b[0m\u001b[0m\n\u001b[1;32m     22\u001b[0m \u001b[0;34m\u001b[0m\u001b[0m\n\u001b[0;32m---> 23\u001b[0;31m \u001b[0mpolicy\u001b[0m \u001b[0;34m=\u001b[0m \u001b[0mpys\u001b[0m\u001b[0;34m.\u001b[0m\u001b[0mSplinePolicy\u001b[0m\u001b[0;34m(\u001b[0m\u001b[0mn_inputs\u001b[0m\u001b[0;34m,\u001b[0m \u001b[0mconfig\u001b[0m\u001b[0;34m)\u001b[0m\u001b[0;34m\u001b[0m\u001b[0;34m\u001b[0m\u001b[0m\n\u001b[0m",
      "\u001b[0;31mMemoryError\u001b[0m: std::bad_alloc"
     ]
    }
   ],
   "source": [
    "import sys\n",
    "import os\n",
    "\n",
    "sys.path.insert(0, \"/home/giuseppe/catkin_ws/src/sampling_based_control/mppi/python\")\n",
    "import numpy as np\n",
    "import matplotlib.pyplot as plt\n",
    "import pymppi as pys\n",
    "import time\n",
    "    \n",
    "n_inputs = 4\n",
    "\n",
    "config = pys.Config()\n",
    "config.horizon = 1.0\n",
    "config.step_size = 0.01\n",
    "config.samples = 10\n",
    "config.filters_window = [10] * n_inputs\n",
    "config.filters_order = [3] * n_inputs\n",
    "config.variance = [0.01] * n_inputs\n",
    "config.u_max = [1.0] * n_inputs\n",
    "config.u_min = [-1.0] * n_inputs\n",
    "\n",
    "\n",
    "policy = pys.SplinePolicy(n_inputs, config)"
   ]
  },
  {
   "cell_type": "markdown",
   "metadata": {},
   "source": [
    "### Utilities"
   ]
  },
  {
   "cell_type": "code",
   "execution_count": null,
   "metadata": {},
   "outputs": [],
   "source": [
    "# Utility\n",
    "def get_samples_matrix(p):\n",
    "    time = p.get_time()\n",
    "    y_samples = [p.get_sample(time[0], k) for k in range(config.samples)]\n",
    "    for t in time[1:]:\n",
    "        for k in range(config.samples):\n",
    "            y_samples[k] = np.vstack((y_samples[k], p.get_sample(t, k)))\n",
    "    return y_samples\n",
    "\n",
    "def get_nominal_matrix(p):\n",
    "    time = p.get_time()\n",
    "    y_nominal = p.get(time[0])\n",
    "    for t in time[1:]:\n",
    "        y_nominal = np.vstack((y_nominal, policy.get(t)))\n",
    "    return y_nominal"
   ]
  },
  {
   "cell_type": "markdown",
   "metadata": {},
   "source": [
    "### Plot policy"
   ]
  },
  {
   "cell_type": "code",
   "execution_count": null,
   "metadata": {},
   "outputs": [],
   "source": [
    "weights = np.ones(config.samples)\n",
    "keep = 3\n",
    "policy.update_samples(weights, 0)\n",
    "# weights = np.linspace(n_samples, 1, n_samples)\n",
    "# weights = weights / np.sum(weights)\n",
    "weights = np.zeros(config.samples)\n",
    "weights[0] = 1.0\n",
    "\n",
    "time = policy.get_time()\n",
    "sample = 0\n",
    "only_nom = False\n",
    "\n",
    "y_nominal = get_nominal_matrix(policy)\n",
    "y_samples = get_samples_matrix(policy)\n",
    "\n",
    "fig1, ax1 = plt.subplots(2, 2)\n",
    "\n",
    "@widgets.interact(s=(0, config.samples-1), show_all=False, only_nominal=False)\n",
    "def show_samples(s, show_all, only_nominal):\n",
    "    global ax1\n",
    "    global sample\n",
    "    global only_nom\n",
    "    only_nom = only_nominal\n",
    "    sample = s\n",
    "    time = policy.get_time()\n",
    "    for channel in range(n_inputs):\n",
    "        col = channel % 2\n",
    "        row = int(channel >= 2)\n",
    "        ax1[row, col].clear()\n",
    "        ax1[row, col].plot(time, y_nominal[:, channel], label=\"nominal trajectory\")\n",
    "    \n",
    "        if not only_nominal:\n",
    "            if not show_all:\n",
    "                ax1[row, col].plot(time, y_samples[sample][:, channel], label=\"perturbed trajectory\")\n",
    "            else:\n",
    "                for i in range(config.samples):\n",
    "                    ax1[row, col].plot(time, y_samples[i][:, channel], '--')\n",
    "        \n",
    "        ax1[row, col].grid()\n",
    "        ax1[row, col].legend()\n",
    "\n",
    "def update_samples(btn):\n",
    "    global y_samples\n",
    "    policy.update_samples(weights, keep)\n",
    "    y_samples = get_samples_matrix(policy)\n",
    "    show_samples(sample, False, only_nom)\n",
    "\n",
    "# assert shifting to non zero value at the beginning works\n",
    "t0=10.0\n",
    "def shift_samples(btn):\n",
    "    global t0\n",
    "    global y_samples\n",
    "    global y_nominal\n",
    "    t0 += 0.011\n",
    "    policy.shift(t0)\n",
    "    y_samples = get_samples_matrix(policy)\n",
    "    y_nominal = get_nominal_matrix(policy)\n",
    "    show_samples(sample, False, only_nom)\n",
    "\n",
    "def update_policy(btn):\n",
    "    global y_samples\n",
    "    global y_nominal\n",
    "    step_size = 0.01\n",
    "    policy.update(weights, step_size)\n",
    "    y_samples = get_samples_matrix(policy)\n",
    "    y_nominal = get_nominal_matrix(policy)\n",
    "    show_samples(sample, False, only_nom)\n",
    "    \n",
    "\n",
    "def update_policy_20x(btn):\n",
    "    for i in range(20):\n",
    "        update_policy(btn)\n",
    "    \n",
    "    \n",
    "update_samples_button = widgets.Button(description=\"update samples\")\n",
    "update_samples_button.on_click(update_samples)\n",
    "\n",
    "shift_samples_button = widgets.Button(description=\"shift samples\")\n",
    "shift_samples_button.on_click(shift_samples)\n",
    "\n",
    "update_policy_button = widgets.Button(description=\"update policy\")\n",
    "update_policy_button.on_click(update_policy)\n",
    "\n",
    "update_policy20x_button = widgets.Button(description=\"update policy 20x\")\n",
    "update_policy20x_button.on_click(update_policy_20x)\n",
    "\n",
    "\n",
    "buttons = widgets.HBox([update_samples_button, \n",
    "                        shift_samples_button, \n",
    "                        update_policy_button, \n",
    "                        update_policy20x_button])\n",
    "display(buttons)   "
   ]
  },
  {
   "cell_type": "code",
   "execution_count": null,
   "metadata": {},
   "outputs": [],
   "source": []
  }
 ],
 "metadata": {
  "kernelspec": {
   "display_name": "Python 3",
   "language": "python",
   "name": "python3"
  },
  "language_info": {
   "codemirror_mode": {
    "name": "ipython",
    "version": 3
   },
   "file_extension": ".py",
   "mimetype": "text/x-python",
   "name": "python",
   "nbconvert_exporter": "python",
   "pygments_lexer": "ipython3",
   "version": "3.8.5"
  }
 },
 "nbformat": 4,
 "nbformat_minor": 4
}
